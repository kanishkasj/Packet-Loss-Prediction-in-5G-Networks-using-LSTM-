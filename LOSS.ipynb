{
  "nbformat": 4,
  "nbformat_minor": 0,
  "metadata": {
    "colab": {
      "provenance": []
    },
    "kernelspec": {
      "name": "python3",
      "display_name": "Python 3"
    },
    "language_info": {
      "name": "python"
    }
  },
  "cells": [
    {
      "cell_type": "code",
      "source": [
        "import pandas as pd\n",
        "import numpy as np\n",
        "from sklearn.model_selection import train_test_split\n",
        "from sklearn.linear_model import LogisticRegression\n",
        "from sklearn.metrics import accuracy_score"
      ],
      "metadata": {
        "id": "4AplKG1KRfdL"
      },
      "execution_count": null,
      "outputs": []
    },
    {
      "cell_type": "code",
      "source": [
        "file_path = 'train_dataset.csv'\n",
        "data = pd.read_csv(file_path)"
      ],
      "metadata": {
        "id": "2gdLiV1PRhO_"
      },
      "execution_count": null,
      "outputs": []
    },
    {
      "cell_type": "code",
      "source": [
        "features = [\"Healthcare\", \"Industry 4.0\", \"Public Safety\", \"Smart Transportation\",\n",
        "            \"IoT Devices\", \"Smart City & Home\", \"Smartphone\"]\n",
        "X = data[features]\n",
        "\n",
        "data['LOS'] = np.where(data['Packet Loss Rate'] <= 0.001, 1, 0)\n",
        "y = data['LOS']\n",
        "X_train, X_test, y_train, y_test = train_test_split(X, y, test_size=0.3, random_state=42)\n"
      ],
      "metadata": {
        "id": "VWPva-EARkiH"
      },
      "execution_count": null,
      "outputs": []
    },
    {
      "cell_type": "code",
      "source": [
        "log_reg = LogisticRegression(max_iter=200)\n",
        "log_reg.fit(X_train, y_train)"
      ],
      "metadata": {
        "id": "0HlBQiRPRo1Z"
      },
      "execution_count": null,
      "outputs": []
    },
    {
      "cell_type": "code",
      "source": [
        "y_pred = log_reg.predict(X_test)"
      ],
      "metadata": {
        "id": "UmmfFKJURqkA"
      },
      "execution_count": null,
      "outputs": []
    },
    {
      "cell_type": "code",
      "source": [
        "accuracy = accuracy_score(y_test, y_pred)\n",
        "print(f\"Model Accuracy: {accuracy:.2f}\")"
      ],
      "metadata": {
        "id": "Xi83zHFeRuqK"
      },
      "execution_count": null,
      "outputs": []
    },
    {
      "cell_type": "code",
      "source": [
        "data['LOS'] = log_reg.predict(X)"
      ],
      "metadata": {
        "id": "O534lZV7RwF4"
      },
      "execution_count": null,
      "outputs": []
    },
    {
      "cell_type": "code",
      "execution_count": null,
      "metadata": {
        "colab": {
          "base_uri": "https://localhost:8080/"
        },
        "id": "6Wr93KdWQacd",
        "outputId": "b90ae948-c20f-4ca4-ba95-5d952ebfeaab"
      },
      "outputs": [
        {
          "output_type": "stream",
          "name": "stdout",
          "text": [
            "Model Accuracy: 0.90\n",
            "Updated dataset saved to packet_loss_with_LOS.csv\n"
          ]
        }
      ],
      "source": [
        "output_file_path = 'packet_loss_with_LOS.csv'\n",
        "data.to_csv(output_file_path, index=False)\n",
        "print(f\"Updated dataset saved to {output_file_path}\")"
      ]
    }
  ]
}